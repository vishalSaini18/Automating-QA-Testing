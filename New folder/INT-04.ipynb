{
 "cells": [
  {
   "cell_type": "code",
   "execution_count": 6,
   "id": "f5d74821",
   "metadata": {},
   "outputs": [],
   "source": [
    "from selenium import webdriver\n",
    "from selenium.webdriver.common.by import By\n",
    "from selenium.webdriver.support.ui import WebDriverWait\n",
    "from selenium.webdriver.support import expected_conditions as EC\n",
    "import time\n",
    "import random\n",
    "import numpy as np"
   ]
  },
  {
   "cell_type": "code",
   "execution_count": null,
   "id": "54958e54",
   "metadata": {},
   "outputs": [
    {
     "name": "stdout",
     "output_type": "stream",
     "text": [
      "Account selection page did not open, checking for the sign-in page.\n",
      "Google sign-in page (Email/Phone) opened successfully!\n"
     ]
    }
   ],
   "source": [
    "# Set up the WebDriver\n",
    "driver = webdriver.Chrome()\n",
    "\n",
    "# Open the login page\n",
    "driver.get('https://demo.intellibank.io/login')\n",
    "\n",
    "# sign in button\n",
    "sing_in_button = WebDriverWait(driver, 20).until(\n",
    "    EC.element_to_be_clickable((By.XPATH, \"//span[normalize-space()='Sign in with Google']\"))\n",
    ")\n",
    "\n",
    "sing_in_button.click()\n",
    "\n",
    "# Wait for the page to load\n",
    "try:\n",
    "    # Wait for the account selection screen (page with 'Choose an account')\n",
    "    WebDriverWait(driver, 4).until(\n",
    "        EC.presence_of_element_located((By.XPATH, \"//div[contains(text(),'Choose an account')]\"))\n",
    "    )\n",
    "    print(\"Google sign-in account selection page opened successfully!\")\n",
    "except Exception as e:\n",
    "    print(\"Account selection page did not open, checking for the sign-in page.\")\n",
    "    \n",
    "    # If the account selection page doesn't appear, check for the sign-in page (Email/Phone input)\n",
    "    try:\n",
    "        WebDriverWait(driver, 4).until(\n",
    "            EC.presence_of_element_located((By.XPATH, \"//input[@type='email']\"))\n",
    "        )\n",
    "        print(\"Google sign-in page (Email/Phone) opened successfully!\")\n",
    "    except Exception as e:\n",
    "        print(\"Google sign-in page did not open:\", e)\n",
    "\n",
    "\n",
    "# Close the browser after the check\n",
    "driver.quit()"
   ]
  },
  {
   "cell_type": "code",
   "execution_count": null,
   "id": "dfdb8708",
   "metadata": {},
   "outputs": [],
   "source": []
  }
 ],
 "metadata": {
  "kernelspec": {
   "display_name": "Python 3",
   "language": "python",
   "name": "python3"
  },
  "language_info": {
   "codemirror_mode": {
    "name": "ipython",
    "version": 3
   },
   "file_extension": ".py",
   "mimetype": "text/x-python",
   "name": "python",
   "nbconvert_exporter": "python",
   "pygments_lexer": "ipython3",
   "version": "3.13.5"
  }
 },
 "nbformat": 4,
 "nbformat_minor": 5
}
